{
 "cells": [
  {
   "cell_type": "code",
   "execution_count": null,
   "metadata": {},
   "outputs": [],
   "source": [
    "import pandas as pd\n",
    "import matplotlib.pyplot as plt"
   ]
  },
  {
   "cell_type": "markdown",
   "metadata": {},
   "source": [
    "---\n",
    "### In this project, you will be using a larger dataset and answering questions about it.\n",
    "Dataset you can choose from...\n",
    "- FIFA world cup matches (\"../data/fifa-worldcup-matches.csv\")\n",
    "- Student performance in schools (\"../data/studentPerformance.csv\")\n",
    "- Video game sales (\"../data/vgsales.csv\")\n",
    "\n",
    "Instructions...\n",
    "1. Have a look at the data, take a look at what columns you have.\n",
    "2. Think of an interesting question to ask (e.g. \"Do per-game sale of video games go up or down over the life of a console\")\n",
    "   The question cannot be too simple (for example, \"which is the highest selling video game of all time\" is too simple)\n",
    "   The question should involve trends, not single row answers.\n",
    "3. Some questions will be very difficult to answer definitively. That's ok, I will be grading you on your process, not your end result.\n",
    "   Pick an interesting question that actually requires some analysis. If you don't, your grade will reflect it."
   ]
  },
  {
   "cell_type": "code",
   "execution_count": null,
   "metadata": {},
   "outputs": [],
   "source": []
  }
 ],
 "metadata": {
  "language_info": {
   "name": "python"
  }
 },
 "nbformat": 4,
 "nbformat_minor": 2
}
