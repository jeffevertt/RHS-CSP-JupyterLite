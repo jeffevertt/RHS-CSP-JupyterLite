{
 "cells": [
  {
   "cell_type": "code",
   "execution_count": null,
   "metadata": {},
   "outputs": [],
   "source": [
    "import pandas as pd\n",
    "import matplotlib.pyplot as plt"
   ]
  },
  {
   "cell_type": "markdown",
   "metadata": {},
   "source": [
    "---\n",
    "### In this project, you will be using a larger dataset and answering questions about it.\n",
    "Dataset you can choose from...\n",
    "- FIFA world cup matches (\"../data/fifa-worldcup-matches.csv\")\n",
    "- Student performance in schools (\"../data/studentPerformance.csv\")\n",
    "- Video game sales (\"../data/vgsales.csv\")"
   ]
  },
  {
   "cell_type": "code",
   "execution_count": null,
   "metadata": {},
   "outputs": [],
   "source": []
  }
 ],
 "metadata": {
  "language_info": {
   "name": "python"
  }
 },
 "nbformat": 4,
 "nbformat_minor": 2
}
