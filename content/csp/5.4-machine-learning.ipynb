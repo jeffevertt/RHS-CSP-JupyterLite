{
 "cells": [
  {
   "cell_type": "code",
   "execution_count": 1,
   "metadata": {},
   "outputs": [],
   "source": [
    "import pandas as pd\n",
    "import matplotlib.pyplot as plt\n",
    "from sklearn.tree import DecisionTreeClassifier"
   ]
  },
  {
   "cell_type": "markdown",
   "metadata": {},
   "source": [
    "---\n",
    "This sample code reads a small dataset of music preferences and then trains a simple ML model (decision tree model) to predict music preference based on game and gender."
   ]
  },
  {
   "cell_type": "code",
   "execution_count": 2,
   "metadata": {},
   "outputs": [
    {
     "data": {
      "text/plain": [
       "'21 yo male   -->  HipHop'"
      ]
     },
     "metadata": {},
     "output_type": "display_data"
    },
    {
     "data": {
      "text/plain": [
       "'22 yo female -->  Dance'"
      ]
     },
     "metadata": {},
     "output_type": "display_data"
    }
   ],
   "source": [
    "musicData = pd.read_csv('../data/musicSimple.csv')\n",
    "\n",
    "X = musicData.drop(columns=['genre'])  # input (all other columns, except 'gender')\n",
    "y = musicData['genre']                 # output\n",
    "\n",
    "# create and train the ML model (decision tree)\n",
    "model = DecisionTreeClassifier()\n",
    "model.fit(X.values, y.values)\n",
    "\n",
    "# predict for a 21 y.o. male, then a 22 y.o. female\n",
    "display( \"21 yo male   -->  \" + str(model.predict( [ [21, 1] ] )[0]) ) \n",
    "display( \"22 yo female -->  \" + str(model.predict( [ [22, 0] ] )[0]) )\n"
   ]
  },
  {
   "cell_type": "markdown",
   "metadata": {},
   "source": [
    "---\n",
    "Your goal...\n",
    "- Use student performance data set (\"../data/studentPerformance.csv\")\n",
    "- Train an ML model to make some prediction about the data\n",
    "-  You'll need to use the DecisionTreeRegressor() model instead, because the output types are contiguous (not discrete/categorical)\n",
    "- Test it out\n",
    "- Validate based on some visualization the data"
   ]
  }
 ],
 "metadata": {
  "kernelspec": {
   "display_name": "base",
   "language": "python",
   "name": "python3"
  },
  "language_info": {
   "codemirror_mode": {
    "name": "ipython",
    "version": 3
   },
   "file_extension": ".py",
   "mimetype": "text/x-python",
   "name": "python",
   "nbconvert_exporter": "python",
   "pygments_lexer": "ipython3",
   "version": "3.12.3"
  }
 },
 "nbformat": 4,
 "nbformat_minor": 2
}
